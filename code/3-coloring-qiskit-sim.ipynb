{
 "metadata": {
  "language_info": {
   "codemirror_mode": {
    "name": "ipython",
    "version": 3
   },
   "file_extension": ".py",
   "mimetype": "text/x-python",
   "name": "python",
   "nbconvert_exporter": "python",
   "pygments_lexer": "ipython3",
   "version": "3.8.5-final"
  },
  "orig_nbformat": 2,
  "kernelspec": {
   "name": "python3",
   "display_name": "Python 3"
  }
 },
 "nbformat": 4,
 "nbformat_minor": 2,
 "cells": [
  {
   "source": [
    "# 3 coloring Problem\n",
    "* Contains results from running on QASM simulator\n",
    "\n",
    "* Code inspired by https://hal.archives-ouvertes.fr/hal-02891847/document"
   ],
   "cell_type": "markdown",
   "metadata": {}
  },
  {
   "cell_type": "code",
   "execution_count": null,
   "metadata": {},
   "outputs": [],
   "source": [
    "# 2 color graph coloring problem circuit\n",
    "import matplotlib.pyplot as plt\n",
    "import numpy as np\n",
    "from qiskit.quantum_info.operators import Operator\n",
    "from qiskit import QuantumRegister, ClassicalRegister, QuantumCircuit\n",
    "from qiskit import Aer, execute\n",
    "from qiskit.providers.aer.noise import NoiseModel\n",
    "from qiskit.tools.visualization import plot_histogram\n",
    "import networkx as nx"
   ]
  },
  {
   "source": [
    "# Function Definitions"
   ],
   "cell_type": "markdown",
   "metadata": {}
  },
  {
   "cell_type": "code",
   "execution_count": null,
   "metadata": {},
   "outputs": [],
   "source": [
    "# This function is responsible for looking through the\n",
    "# edges in the graph and determining the implicit\n",
    "# constraints between them.\n",
    "def getImplicitConstraints(graph):\n",
    "    g = []\n",
    "    for (u,v) in graph:\n",
    "        g.append((u,v))\n",
    "        if (v,u) not in g:\n",
    "            g.append((v,u))\n",
    "            \n",
    "    cmap = dict()\n",
    "    for (a,b) in g:\n",
    "        for (c,d) in g:\n",
    "            u = a; v = b; x = c; y = d\n",
    "            if (v == x) and (u != y):\n",
    "                if y <= u:\n",
    "                    u, y = y, u\n",
    "                if (u,y) not in g:\n",
    "                    cmap[(u,y)] = (u,y)\n",
    "    return list(cmap)\n",
    "\n",
    "# used check the results and to see if any of the\n",
    "# outputs contain any pairs of vertices which have\n",
    "# the same coloring assigned. If so then this function\n",
    "# return false.\n",
    "def uniqueCharacters(st, graph):\n",
    "    # Using sorting\n",
    "    # sorted(st)\n",
    "    s = len(st)-1\n",
    "    for (i,j) in graph:\n",
    "        if st[s-i] == st[s-j]:\n",
    "            return False\n",
    "    return True\n",
    "\n",
    "# used to extract the color to plot graph with\n",
    "def getColoring(coloring):\n",
    "    colorMap = []\n",
    "    for c in reversed(coloring):\n",
    "        if c == 'R':\n",
    "            colorMap.append('Red')\n",
    "        elif c == 'G':\n",
    "            colorMap.append('Green')\n",
    "        elif c == 'B':\n",
    "            colorMap.append('Blue')\n",
    "        else:\n",
    "            colorMap.append('Gray')\n",
    "    return colorMap"
   ]
  },
  {
   "cell_type": "code",
   "execution_count": null,
   "metadata": {},
   "outputs": [],
   "source": [
    "# Define the graph by giving the ends of each edge\n",
    "\n",
    "g = [(0,1),(0,2),(1,2),(2,3)]\n",
    "\n",
    "nVert = max(max(g))+1\n",
    "nodes = list(range(nVert))\n",
    "nEdges = len(g)\n",
    "\n",
    "\n",
    "# list of all constraints to apply to graph\n",
    "cg = []\n",
    "for (v1,v2) in g:\n",
    "    if v1 < v2:\n",
    "        cg.append((v1,v2))\n",
    "    elif v2 < v1:\n",
    "        cg.append((v2,v1))\n",
    "\n",
    "# Sort the constraints to ensure the implicit constraints\n",
    "#   are after the corresponding explicit contraints\n",
    "# The edges are the explicit constraints and the pair of vertices\n",
    "#   which have a common neighbour are the implicit constraints.\n",
    "# Sorting the constraints is import because this will affect the order\n",
    "#   in which the circuit circuit is constructed.\n",
    "# Example:\n",
    "#           g = [(0,1), (1,2)]\n",
    "# (0,2) is an implicit constraint because we want to maximize the\n",
    "#   number of colors used so ideally vertices 0 and 2 must have\n",
    "#   different coloring\n",
    "# So the constraint graph should be in the orders: cg = [(0,1), (0,2), (1,2)]\n",
    "\n",
    "print(cg)\n",
    "\n",
    "# view the graph\n",
    "ngx = nx.Graph()\n",
    "for i in g:\n",
    "    ngx.add_edge(i[0], i[1])\n",
    "    \n",
    "nx.draw(ngx, with_labels=True)\n"
   ]
  },
  {
   "cell_type": "code",
   "execution_count": null,
   "metadata": {},
   "outputs": [],
   "source": [
    "# Add additional constraints\n",
    "# Get the implict constraints between vertices which\n",
    "# have a common neighbour\n",
    "cons = getImplicitConstraints(g)\n",
    "nCons = len(cons)\n",
    "cg.extend(cons)\n",
    "cg.sort()\n",
    "print(cg)"
   ]
  },
  {
   "source": [
    "# With Unitary to remove |11> state"
   ],
   "cell_type": "markdown",
   "metadata": {}
  },
  {
   "cell_type": "code",
   "execution_count": null,
   "metadata": {},
   "outputs": [],
   "source": [
    "ce = 2\n",
    "# Create a Quantum Circuit\n",
    "qv = QuantumRegister(ce*nVert)\n",
    "q = QuantumRegister(4)\n",
    "c = ClassicalRegister(ce*nVert)\n",
    "qc = QuantumCircuit(qv,q,c)\n",
    "\n",
    "# Add the gates to the circuit for each edge in the graph\n",
    "for i in range(nVert*ce):\n",
    "    qc.h(i)\n",
    "\n",
    "# remove the |11> state because we only require 3 colors\n",
    "remov_op = Operator([[3, 1, -1, 1], [-1, 3, 1, 1], [1, -1, 3, 1], [-1, -1, -1, 3]]/(2*np.sqrt(3)))\n",
    "for i in range(0,nVert*2,2):\n",
    "    qc.unitary(remov_op, [i, i+1], label='remov 11')\n",
    "\n",
    "# The three transition above create a circular transition when two vertices\n",
    "#   have the same color/state\n",
    "# Two |00> vertices cause the second vertex to transition to |01>\n",
    "#               |00>x|00> ---> |00>x|01>\n",
    "# Two |01> vertices cause the second vertex to transition to |10>\n",
    "#               |01>x|01> ---> |01>x|10>\n",
    "# Two |10> vertices cause the second vertex to transition to |00>\n",
    "#               |10>x|10> ---> |00>x|00>\n",
    "\n",
    "k = ce*nVert\n",
    "for edge in cg:\n",
    "    i = edge[0]*ce\n",
    "    j = edge[1]*ce\n",
    "\n",
    "    qc.ccx(i,j,k)\n",
    "    qc.ccx(i+1,j+1,k+1)\n",
    "\n",
    "    # check if two states are the same\n",
    "    qc.x(i)\n",
    "    qc.x(i+1)\n",
    "    qc.x(j)\n",
    "    qc.x(j+1)\n",
    "    qc.ccx(i,j,k+2)\n",
    "    qc.ccx(i+1,j+1,k+3)\n",
    "    qc.x(i)\n",
    "    qc.x(i+1)\n",
    "    qc.x(j)\n",
    "    qc.x(j+1)\n",
    "\n",
    "    # to transition the |00>x|00> ---> |00>x|01>\n",
    "    qc.ccx(k+3, k+2, j)\n",
    "\n",
    "    # to transition the |01>x|01> ---> |01>x|10>\n",
    "    qc.ccx(k+3,k,j)\n",
    "    qc.ccx(k+3,k,j+1)\n",
    "\n",
    "    # to transition the |10>x|10> ---> |10>x|11>\n",
    "    qc.ccx(k+2,k+1,j+1)\n",
    "\n",
    "    # to transition |11>x|11> ---> |11>x|00> \n",
    "    qc.ccx(k+1, k, j)\n",
    "    qc.ccx(k+1, k, j+1)\n",
    "\n",
    "    qc.barrier()\n",
    "\n",
    "    qc.reset(k)\n",
    "    qc.reset(k+1)\n",
    "    qc.reset(k+2)\n",
    "    qc.reset(k+3)\n",
    "\n",
    "# measure all the input qubits\n",
    "qc.measure(qv,c)"
   ]
  },
  {
   "cell_type": "code",
   "execution_count": null,
   "metadata": {},
   "outputs": [],
   "source": [
    "#--------------- Drawing\n",
    "qc.draw(output='mpl')"
   ]
  },
  {
   "cell_type": "code",
   "execution_count": null,
   "metadata": {},
   "outputs": [],
   "source": [
    "# # Use Aer's qasm_simulator\n",
    "# backend_qasm_sim = Aer.get_backend('qasm_simulator')\n",
    "# job_sim = execute(qc, backend_qasm_sim, shots=10240)\n",
    "\n",
    "# # display the results\n",
    "# result_qasm_sim = job_sim.result()\n",
    "# counts = result_qasm_sim.get_counts()\n",
    "# # print(counts)\n",
    "\n",
    "# plot_histogram(counts, figsize=(24,12))\n",
    "from qiskit import IBMQ\n",
    "IBMQ.load_account()\n",
    "\n",
    "provider = IBMQ.get_provider(hub='ibm-q-ncsu', group='nc-state', project='grad-qc-class')\n",
    "\n",
    "backend_qasm_sim = Aer.get_backend('qasm_simulator')\n",
    "ibmq_qasm_simulator = provider.get_backend('ibmq_qasm_simulator')\n",
    "\n",
    "ibmq_paris_noise = NoiseModel.from_backend(provider.get_backend('ibmq_paris'))\n",
    "ibmq_toronto_noise = NoiseModel.from_backend(provider.get_backend('ibmq_toronto'))\n",
    "\n",
    "results = execute(qc, backend=ibmq_qasm_simulator, shots=8000, noise_model=ibmq_toronto_noise).result()"
   ]
  },
  {
   "cell_type": "code",
   "execution_count": null,
   "metadata": {},
   "outputs": [],
   "source": [
    "counts = results.get_counts()\n",
    "plot_histogram(counts, figsize=(24,12))"
   ]
  },
  {
   "cell_type": "code",
   "execution_count": null,
   "metadata": {},
   "outputs": [],
   "source": [
    "len(counts)"
   ]
  },
  {
   "cell_type": "code",
   "execution_count": null,
   "metadata": {},
   "outputs": [],
   "source": [
    "cMap = {'00':'R', '01':'G', '10':'B', '11':'X'}\n",
    "colorCodedU = dict()\n",
    "colorCoded3U = dict()\n",
    "for k in counts:\n",
    "    s = \"\"\n",
    "    i = 0\n",
    "    while i < len(k):\n",
    "        s += cMap[k[i:i+2]]\n",
    "        i += 2\n",
    "    colorCodedU[s] = counts[k]\n",
    "    if uniqueCharacters(s, g):\n",
    "        colorCoded3U[s] = counts[k]\n",
    "\n",
    "# sort the results to better visualize\n",
    "colorCodedU = {k: v for k, v in sorted(colorCodedU.items(), key=lambda item: item[1], reverse=True)}\n",
    "plot_histogram(colorCodedU, figsize=(24,12))"
   ]
  },
  {
   "cell_type": "code",
   "execution_count": null,
   "metadata": {},
   "outputs": [],
   "source": [
    "i = 4\n",
    "for key in colorCodedU:\n",
    "    if i == 0:\n",
    "        break\n",
    "    i -= 1\n",
    "    plt.figure()\n",
    "    plt.title(key + \" with count = \" + str(colorCodedU[key]))\n",
    "    colorMap = getColoring(key)\n",
    "    nx.draw(ngx, node_color=colorMap, with_labels=True)\n",
    "    "
   ]
  },
  {
   "source": [
    "## After filtering out any states which have two adjacent vertices with same color"
   ],
   "cell_type": "markdown",
   "metadata": {}
  },
  {
   "cell_type": "code",
   "execution_count": null,
   "metadata": {},
   "outputs": [],
   "source": [
    "colorCoded3U = {k: v for k, v in sorted(colorCoded3U.items(), key=lambda item: item[1], reverse=True)}\n",
    "plot_histogram(colorCoded3U, figsize=(24,12))"
   ]
  },
  {
   "cell_type": "code",
   "execution_count": null,
   "metadata": {},
   "outputs": [],
   "source": [
    "i = 4\n",
    "for key in colorCoded3U:\n",
    "    if i == 0:\n",
    "        break\n",
    "    i -= 1\n",
    "    plt.figure()\n",
    "    plt.title(key + \" with count = \" + str(colorCoded3U[key]))\n",
    "    colorMap = getColoring(key)\n",
    "    nx.draw(ngx, node_color=colorMap, with_labels=True)"
   ]
  },
  {
   "source": [
    "# Without Unitary to remove |11> state"
   ],
   "cell_type": "markdown",
   "metadata": {}
  },
  {
   "cell_type": "code",
   "execution_count": null,
   "metadata": {},
   "outputs": [],
   "source": [
    "ce = 2\n",
    "# Create a Quantum Circuit\n",
    "qv = QuantumRegister(ce*nVert)\n",
    "q = QuantumRegister(4)\n",
    "c = ClassicalRegister(ce*nVert)\n",
    "qc = QuantumCircuit(qv,q,c)\n",
    "\n",
    "# Add the gates to the circuit for each edge in the graph\n",
    "for i in range(nVert*ce):\n",
    "    qc.h(i)\n",
    "\n",
    "# remove the |11> state because we only require 3 colors\n",
    "remov_op = Operator([[3, 1, -1, 1], [-1, 3, 1, 1], [1, -1, 3, 1], [-1, -1, -1, 3]]/(2*np.sqrt(3)))\n",
    "for i in range(0,nVert*2,2):\n",
    "    qc.unitary(remov_op, [i, i+1], label='remov 11')\n",
    "\n",
    "# The three transition above create a circular transition when two vertices\n",
    "#   have the same color/state\n",
    "# Two |00> vertices cause the second vertex to transition to |01>\n",
    "#               |00>x|00> ---> |00>x|01>\n",
    "# Two |01> vertices cause the second vertex to transition to |10>\n",
    "#               |01>x|01> ---> |01>x|10>\n",
    "# Two |10> vertices cause the second vertex to transition to |00>\n",
    "#               |10>x|10> ---> |00>x|00>\n",
    "\n",
    "k = ce*nVert\n",
    "for edge in cg:\n",
    "    i = edge[0]*ce\n",
    "    j = edge[1]*ce\n",
    "\n",
    "    qc.ccx(i,j,k)\n",
    "    qc.ccx(i+1,j+1,k+1)\n",
    "\n",
    "    # check if two states are the same\n",
    "    qc.x(i)\n",
    "    qc.x(i+1)\n",
    "    qc.x(j)\n",
    "    qc.x(j+1)\n",
    "    qc.ccx(i,j,k+2)\n",
    "    qc.ccx(i+1,j+1,k+3)\n",
    "    qc.x(i)\n",
    "    qc.x(i+1)\n",
    "    qc.x(j)\n",
    "    qc.x(j+1)\n",
    "\n",
    "    # to transition the |00>x|00> ---> |00>x|01>\n",
    "    qc.ccx(k+3, k+2, j)\n",
    "\n",
    "    # to transition the |01>x|01> ---> |01>x|10>\n",
    "    qc.ccx(k+3,k,j)\n",
    "    qc.ccx(k+3,k,j+1)\n",
    "\n",
    "    # to transition the |10>x|10> ---> |10>x|11>\n",
    "    qc.ccx(k+2,k+1,j+1)\n",
    "\n",
    "    # to transition |11>x|11> ---> |11>x|00> \n",
    "    qc.ccx(k+1, k, j)\n",
    "    qc.ccx(k+1, k, j+1)\n",
    "\n",
    "    qc.barrier()\n",
    "\n",
    "    qc.reset(k)\n",
    "    qc.reset(k+1)\n",
    "    qc.reset(k+2)\n",
    "    qc.reset(k+3)\n",
    "\n",
    "# measure all the input qubits\n",
    "qc.measure(qv,c)"
   ]
  },
  {
   "cell_type": "code",
   "execution_count": null,
   "metadata": {},
   "outputs": [],
   "source": [
    "qc.draw(output='mpl')"
   ]
  },
  {
   "cell_type": "code",
   "execution_count": null,
   "metadata": {},
   "outputs": [],
   "source": [
    "# # Use Aer's qasm_simulator\n",
    "# backend_qasm_sim = Aer.get_backend('qasm_simulator')\n",
    "# job_sim = execute(qc, backend_qasm_sim, shots=10240)\n",
    "\n",
    "# # display the results\n",
    "# result_qasm_sim = job_sim.result()\n",
    "# counts = result_qasm_sim.get_counts()\n",
    "# # print(counts)\n",
    "\n",
    "# plot_histogram(counts, figsize=(24,12))\n",
    "from qiskit import IBMQ\n",
    "IBMQ.load_account()\n",
    "\n",
    "provider = IBMQ.get_provider(hub='ibm-q-ncsu', group='nc-state', project='grad-qc-class')\n",
    "\n",
    "backend_qasm_sim = Aer.get_backend('qasm_simulator')\n",
    "ibmq_qasm_simulator = provider.get_backend('ibmq_qasm_simulator')\n",
    "\n",
    "ibmq_paris_noise = NoiseModel.from_backend(provider.get_backend('ibmq_paris'))\n",
    "ibmq_toronto_noise = NoiseModel.from_backend(provider.get_backend('ibmq_toronto'))\n",
    "\n",
    "results1 = execute(qc, backend=ibmq_qasm_simulator, shots=8000, noise_model=ibmq_paris_noise).result()"
   ]
  },
  {
   "cell_type": "code",
   "execution_count": null,
   "metadata": {},
   "outputs": [],
   "source": [
    "counts1 = results1.get_counts()\n",
    "plot_histogram(counts1, figsize=(24,12))"
   ]
  },
  {
   "cell_type": "code",
   "execution_count": null,
   "metadata": {},
   "outputs": [],
   "source": [
    "print(len(counts1))"
   ]
  },
  {
   "cell_type": "code",
   "execution_count": null,
   "metadata": {},
   "outputs": [],
   "source": [
    "cMap = {'00':'R', '01':'G', '10':'B', '11':'X'}\n",
    "colorCoded = dict()\n",
    "colorCoded3 = dict()\n",
    "for k in counts1:\n",
    "    s = \"\"\n",
    "    i = 0\n",
    "    while i < len(k):\n",
    "        s += cMap[k[i:i+2]]\n",
    "        i += 2\n",
    "    colorCoded[s] = counts1[k]\n",
    "    if uniqueCharacters(s, g):\n",
    "        colorCoded3[s] = counts1[k]\n",
    "\n",
    "# sort the results to better visualize\n",
    "colorCoded = {k: v for k, v in sorted(colorCoded.items(), key=lambda item: item[1], reverse=True)}\n",
    "plot_histogram(colorCoded, figsize=(24,12))"
   ]
  },
  {
   "cell_type": "code",
   "execution_count": null,
   "metadata": {},
   "outputs": [],
   "source": [
    "i = 4\n",
    "for key in colorCoded:\n",
    "    if i == 0:\n",
    "        break\n",
    "    i -= 1\n",
    "    plt.figure()\n",
    "    plt.title(key + \" with count = \" + str(colorCoded[key]))\n",
    "    colorMap = getColoring(key)\n",
    "    nx.draw(ngx, node_color=colorMap, with_labels=True)"
   ]
  },
  {
   "cell_type": "code",
   "execution_count": null,
   "metadata": {},
   "outputs": [],
   "source": [
    "## After filtering out any states which have two adjacent vertices with same color"
   ]
  },
  {
   "cell_type": "code",
   "execution_count": null,
   "metadata": {},
   "outputs": [],
   "source": [
    "# plot the histogram of the filtered resilts with any results with two\n",
    "# same colors adjacent to each other are removed.\n",
    "colorCoded3 = {k: v for k, v in sorted(colorCoded3.items(), key=lambda item: item[1], reverse=True)}\n",
    "plot_histogram(colorCoded3, figsize=(24,12))"
   ]
  },
  {
   "cell_type": "code",
   "execution_count": null,
   "metadata": {},
   "outputs": [],
   "source": [
    "i = 4\n",
    "for key in colorCoded3:\n",
    "    if i == 0:\n",
    "        break\n",
    "    i -= 1\n",
    "    plt.figure()\n",
    "    plt.title(key + \" with count = \" + str(colorCoded3[key]))\n",
    "    colorMap = getColoring(key)\n",
    "    nx.draw(ngx, node_color=colorMap, with_labels=True)"
   ]
  },
  {
   "cell_type": "code",
   "execution_count": null,
   "metadata": {},
   "outputs": [],
   "source": []
  }
 ]
}